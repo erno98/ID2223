{
 "cells": [
  {
   "cell_type": "code",
   "execution_count": 12,
   "id": "e445e5ce",
   "metadata": {},
   "outputs": [],
   "source": [
    "import os \n",
    "import pandas as pd\n",
    "import numpy as np"
   ]
  },
  {
   "cell_type": "code",
   "execution_count": 40,
   "id": "c9c68001",
   "metadata": {},
   "outputs": [
    {
     "data": {
      "text/html": [
       "<div>\n",
       "<style scoped>\n",
       "    .dataframe tbody tr th:only-of-type {\n",
       "        vertical-align: middle;\n",
       "    }\n",
       "\n",
       "    .dataframe tbody tr th {\n",
       "        vertical-align: top;\n",
       "    }\n",
       "\n",
       "    .dataframe thead th {\n",
       "        text-align: right;\n",
       "    }\n",
       "</style>\n",
       "<table border=\"1\" class=\"dataframe\">\n",
       "  <thead>\n",
       "    <tr style=\"text-align: right;\">\n",
       "      <th></th>\n",
       "      <th>date</th>\n",
       "      <th>pm10</th>\n",
       "      <th>o3</th>\n",
       "      <th>no2</th>\n",
       "      <th>so2</th>\n",
       "      <th>co</th>\n",
       "      <th>city</th>\n",
       "      <th>pm25</th>\n",
       "    </tr>\n",
       "  </thead>\n",
       "  <tbody>\n",
       "    <tr>\n",
       "      <th>0</th>\n",
       "      <td>2023-1-2</td>\n",
       "      <td>23</td>\n",
       "      <td>18</td>\n",
       "      <td>NaN</td>\n",
       "      <td>3</td>\n",
       "      <td>NaN</td>\n",
       "      <td>bielsko biała</td>\n",
       "      <td>NaN</td>\n",
       "    </tr>\n",
       "    <tr>\n",
       "      <th>1</th>\n",
       "      <td>2023-1-3</td>\n",
       "      <td>25</td>\n",
       "      <td>27</td>\n",
       "      <td>7</td>\n",
       "      <td>2</td>\n",
       "      <td>NaN</td>\n",
       "      <td>bielsko biała</td>\n",
       "      <td>NaN</td>\n",
       "    </tr>\n",
       "    <tr>\n",
       "      <th>2</th>\n",
       "      <td>2023-1-4</td>\n",
       "      <td>19</td>\n",
       "      <td>24</td>\n",
       "      <td>4</td>\n",
       "      <td>1</td>\n",
       "      <td>NaN</td>\n",
       "      <td>bielsko biała</td>\n",
       "      <td>NaN</td>\n",
       "    </tr>\n",
       "    <tr>\n",
       "      <th>3</th>\n",
       "      <td>2023-1-5</td>\n",
       "      <td>9</td>\n",
       "      <td>20</td>\n",
       "      <td>3</td>\n",
       "      <td>1</td>\n",
       "      <td>NaN</td>\n",
       "      <td>bielsko biała</td>\n",
       "      <td>NaN</td>\n",
       "    </tr>\n",
       "    <tr>\n",
       "      <th>4</th>\n",
       "      <td>2023-1-6</td>\n",
       "      <td>13</td>\n",
       "      <td>17</td>\n",
       "      <td>NaN</td>\n",
       "      <td>2</td>\n",
       "      <td>NaN</td>\n",
       "      <td>bielsko biała</td>\n",
       "      <td>NaN</td>\n",
       "    </tr>\n",
       "  </tbody>\n",
       "</table>\n",
       "</div>"
      ],
      "text/plain": [
       "       date pm10   o3  no2 so2   co           city pm25\n",
       "0  2023-1-2   23   18  NaN   3  NaN  bielsko biała  NaN\n",
       "1  2023-1-3   25   27    7   2  NaN  bielsko biała  NaN\n",
       "2  2023-1-4   19   24    4   1  NaN  bielsko biała  NaN\n",
       "3  2023-1-5    9   20    3   1  NaN  bielsko biała  NaN\n",
       "4  2023-1-6   13   17  NaN   2  NaN  bielsko biała  NaN"
      ]
     },
     "execution_count": 40,
     "metadata": {},
     "output_type": "execute_result"
    }
   ],
   "source": [
    "# merge only cities that we have the weather data for\n",
    "\n",
    "cities = [x for x in os.listdir(\"../weather\") if '.csv' in x and 'merged' not in x]\n",
    "\n",
    "dfs = []\n",
    "for city_file in cities:\n",
    "    city_df = pd.read_csv(city_file)    \n",
    "    city_fullname = pd.read_csv(f'../weather/{city_file}')['name'].iloc[0]\n",
    "    \n",
    "    city_df['city'] = city_fullname\n",
    "    city_df['date'] = city_df['date'].apply(lambda t: t.replace(\"/\", '-'))\n",
    "    dfs.append(city_df)\n",
    "    \n",
    "df = pd.concat(dfs)\n",
    "\n",
    "# replace empty strings with nan\n",
    "df = df.replace(r'^\\s*$', np.nan, regex=True)\n",
    "\n",
    "df.columns = [x.strip() for x in df.columns]\n",
    "\n",
    "df.head()"
   ]
  },
  {
   "cell_type": "code",
   "execution_count": 41,
   "id": "cfd335eb",
   "metadata": {},
   "outputs": [
    {
     "data": {
      "text/plain": [
       "date    22362\n",
       "pm10    16760\n",
       "o3      13274\n",
       "no2     19453\n",
       "so2     12150\n",
       "co      11948\n",
       "city    22362\n",
       "pm25    14134\n",
       "dtype: int64"
      ]
     },
     "execution_count": 41,
     "metadata": {},
     "output_type": "execute_result"
    }
   ],
   "source": [
    "df.count()"
   ]
  },
  {
   "cell_type": "code",
   "execution_count": 42,
   "id": "d2e3aa5f",
   "metadata": {},
   "outputs": [],
   "source": [
    "df.to_csv('air_quality_merged.csv', index=False)"
   ]
  }
 ],
 "metadata": {
  "kernelspec": {
   "display_name": "base",
   "language": "python",
   "name": "base"
  },
  "language_info": {
   "codemirror_mode": {
    "name": "ipython",
    "version": 3
   },
   "file_extension": ".py",
   "mimetype": "text/x-python",
   "name": "python",
   "nbconvert_exporter": "python",
   "pygments_lexer": "ipython3",
   "version": "3.8.5"
  }
 },
 "nbformat": 4,
 "nbformat_minor": 5
}
