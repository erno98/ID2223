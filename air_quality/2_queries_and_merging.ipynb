{
 "cells": [
  {
   "cell_type": "markdown",
   "id": "a0b3bcd1",
   "metadata": {},
   "source": [
    "## <span style=\"color:#ff5f27;\"> 📡 Connecting to Hopsworks Feature Store </span>"
   ]
  },
  {
   "cell_type": "code",
   "execution_count": 1,
   "id": "1cd7657a",
   "metadata": {},
   "outputs": [
    {
     "name": "stdout",
     "output_type": "stream",
     "text": [
      "Connected. Call `.close()` to terminate connection gracefully.\n",
      "\n",
      "Multiple projects found. \n",
      "\n",
      "\t (1) ID2223_Ernest\n",
      "\t (2) ID2223_Anton\n",
      "\n",
      "Enter project to access: 1\n",
      "\n",
      "Logged in to project, explore it here https://c.app.hopsworks.ai:443/p/5476\n",
      "Connected. Call `.close()` to terminate connection gracefully.\n"
     ]
    }
   ],
   "source": [
    "import hopsworks\n",
    "\n",
    "project = hopsworks.login()\n",
    "\n",
    "fs = project.get_feature_store() "
   ]
  },
  {
   "cell_type": "code",
   "execution_count": 2,
   "id": "735a083e",
   "metadata": {},
   "outputs": [],
   "source": [
    "air_quality_fg = fs.get_or_create_feature_group(\n",
    "    name = 'poland_air_quality_fg',\n",
    "    version = 1\n",
    ")\n",
    "weather_fg = fs.get_or_create_feature_group(\n",
    "    name = 'poland_weather_fg',\n",
    "    version = 1\n",
    ")\n",
    "meta_fg = fs.get_or_create_feature_group(\n",
    "    name = 'poland_meta_fg',\n",
    "    version = 1\n",
    ")"
   ]
  },
  {
   "cell_type": "code",
   "execution_count": 3,
   "id": "c1c1f115",
   "metadata": {},
   "outputs": [],
   "source": [
    "query = air_quality_fg.select(['date', 'pm10', 'city'])\\\n",
    "                              .join(weather_fg.select_all())\\\n",
    "                              .join(meta_fg.select(['area', 'density', 'no_people']))"
   ]
  },
  {
   "cell_type": "code",
   "execution_count": 4,
   "id": "8946c204",
   "metadata": {
    "scrolled": true
   },
   "outputs": [
    {
     "name": "stdout",
     "output_type": "stream",
     "text": [
      "2023-01-13 15:26:44,423 INFO: USE `id2223_ernest_featurestore`\n",
      "2023-01-13 15:26:44,879 INFO: SELECT `fg2`.`date` `date`, `fg2`.`pm10` `pm10`, `fg2`.`city` `city`, `fg0`.`tempmax` `tempmax`, `fg0`.`tempmin` `tempmin`, `fg0`.`temp` `temp`, `fg0`.`feelslikemax` `feelslikemax`, `fg0`.`feelslikemin` `feelslikemin`, `fg0`.`feelslike` `feelslike`, `fg0`.`dew` `dew`, `fg0`.`humidity` `humidity`, `fg0`.`precip` `precip`, `fg0`.`precipprob` `precipprob`, `fg0`.`precipcover` `precipcover`, `fg0`.`snow` `snow`, `fg0`.`snowdepth` `snowdepth`, `fg0`.`windgust` `windgust`, `fg0`.`windspeed` `windspeed`, `fg0`.`winddir` `winddir`, `fg0`.`cloudcover` `cloudcover`, `fg0`.`visibility` `visibility`, `fg0`.`solarradiation` `solarradiation`, `fg0`.`solarenergy` `solarenergy`, `fg0`.`uvindex` `uvindex`, `fg0`.`conditions` `conditions`, `fg1`.`area` `area`, `fg1`.`density` `density`, `fg1`.`no_people` `no_people`\n",
      "FROM `id2223_ernest_featurestore`.`poland_air_quality_fg_1` `fg2`\n",
      "INNER JOIN `id2223_ernest_featurestore`.`poland_weather_fg_1` `fg0` ON `fg2`.`date` = `fg0`.`date` AND `fg2`.`city` = `fg0`.`city`\n",
      "INNER JOIN `id2223_ernest_featurestore`.`poland_meta_fg_1` `fg1` ON `fg2`.`city` = `fg1`.`city`\n"
     ]
    }
   ],
   "source": [
    "df = query.read()"
   ]
  },
  {
   "cell_type": "markdown",
   "id": "be427dca",
   "metadata": {},
   "source": [
    "--- \n",
    "\n",
    "## <span style=\"color:#ff5f27;\"> 🖍 Feature View Creation and Retrieving </span>"
   ]
  },
  {
   "cell_type": "code",
   "execution_count": 32,
   "id": "cc3192d3",
   "metadata": {},
   "outputs": [
    {
     "name": "stdout",
     "output_type": "stream",
     "text": [
      "2023-01-12 21:13:35,094 INFO: USE `id2223_ernest_featurestore`\n",
      "2023-01-12 21:13:35,783 INFO: SELECT `fg2`.`date` `date`, `fg2`.`pm10` `pm10`, `fg2`.`city` `city`, `fg0`.`tempmax` `tempmax`, `fg0`.`tempmin` `tempmin`, `fg0`.`temp` `temp`, `fg0`.`feelslikemax` `feelslikemax`, `fg0`.`feelslikemin` `feelslikemin`, `fg0`.`feelslike` `feelslike`, `fg0`.`dew` `dew`, `fg0`.`humidity` `humidity`, `fg0`.`precip` `precip`, `fg0`.`precipprob` `precipprob`, `fg0`.`precipcover` `precipcover`, `fg0`.`snow` `snow`, `fg0`.`snowdepth` `snowdepth`, `fg0`.`windgust` `windgust`, `fg0`.`windspeed` `windspeed`, `fg0`.`winddir` `winddir`, `fg0`.`cloudcover` `cloudcover`, `fg0`.`visibility` `visibility`, `fg0`.`solarradiation` `solarradiation`, `fg0`.`solarenergy` `solarenergy`, `fg0`.`uvindex` `uvindex`, `fg0`.`conditions` `conditions`, `fg1`.`area` `area`, `fg1`.`density` `density`, `fg1`.`no_people` `no_people`\n",
      "FROM `id2223_ernest_featurestore`.`poland_air_quality_fg_1` `fg2`\n",
      "INNER JOIN `id2223_ernest_featurestore`.`poland_weather_fg_1` `fg0` ON `fg2`.`date` = `fg0`.`date` AND `fg2`.`city` = `fg0`.`city`\n",
      "INNER JOIN `id2223_ernest_featurestore`.`poland_meta_fg_1` `fg1` ON `fg2`.`city` = `fg1`.`city`\n"
     ]
    },
    {
     "data": {
      "text/html": [
       "<div>\n",
       "<style scoped>\n",
       "    .dataframe tbody tr th:only-of-type {\n",
       "        vertical-align: middle;\n",
       "    }\n",
       "\n",
       "    .dataframe tbody tr th {\n",
       "        vertical-align: top;\n",
       "    }\n",
       "\n",
       "    .dataframe thead th {\n",
       "        text-align: right;\n",
       "    }\n",
       "</style>\n",
       "<table border=\"1\" class=\"dataframe\">\n",
       "  <thead>\n",
       "    <tr style=\"text-align: right;\">\n",
       "      <th></th>\n",
       "      <th>date</th>\n",
       "      <th>pm10</th>\n",
       "      <th>city</th>\n",
       "      <th>tempmax</th>\n",
       "      <th>tempmin</th>\n",
       "      <th>temp</th>\n",
       "      <th>feelslikemax</th>\n",
       "      <th>feelslikemin</th>\n",
       "      <th>feelslike</th>\n",
       "      <th>dew</th>\n",
       "      <th>...</th>\n",
       "      <th>winddir</th>\n",
       "      <th>cloudcover</th>\n",
       "      <th>visibility</th>\n",
       "      <th>solarradiation</th>\n",
       "      <th>solarenergy</th>\n",
       "      <th>uvindex</th>\n",
       "      <th>conditions</th>\n",
       "      <th>area</th>\n",
       "      <th>density</th>\n",
       "      <th>no_people</th>\n",
       "    </tr>\n",
       "  </thead>\n",
       "  <tbody>\n",
       "    <tr>\n",
       "      <th>0</th>\n",
       "      <td>1652392800000</td>\n",
       "      <td>19.0</td>\n",
       "      <td>biała podlaska</td>\n",
       "      <td>20.6</td>\n",
       "      <td>7.3</td>\n",
       "      <td>14.9</td>\n",
       "      <td>20.6</td>\n",
       "      <td>7.3</td>\n",
       "      <td>14.9</td>\n",
       "      <td>6.2</td>\n",
       "      <td>...</td>\n",
       "      <td>253.9</td>\n",
       "      <td>68.7</td>\n",
       "      <td>27.0</td>\n",
       "      <td>293.1</td>\n",
       "      <td>25.4</td>\n",
       "      <td>8</td>\n",
       "      <td>Partially cloudy</td>\n",
       "      <td>49.4</td>\n",
       "      <td>1152.06</td>\n",
       "      <td>56942</td>\n",
       "    </tr>\n",
       "    <tr>\n",
       "      <th>1</th>\n",
       "      <td>1664488800000</td>\n",
       "      <td>35.0</td>\n",
       "      <td>biała podlaska</td>\n",
       "      <td>12.9</td>\n",
       "      <td>2.6</td>\n",
       "      <td>8.3</td>\n",
       "      <td>12.9</td>\n",
       "      <td>2.6</td>\n",
       "      <td>8.3</td>\n",
       "      <td>6.5</td>\n",
       "      <td>...</td>\n",
       "      <td>59.8</td>\n",
       "      <td>73.6</td>\n",
       "      <td>7.6</td>\n",
       "      <td>100.4</td>\n",
       "      <td>8.6</td>\n",
       "      <td>5</td>\n",
       "      <td>Rain, Partially cloudy</td>\n",
       "      <td>49.4</td>\n",
       "      <td>1152.06</td>\n",
       "      <td>56942</td>\n",
       "    </tr>\n",
       "    <tr>\n",
       "      <th>2</th>\n",
       "      <td>1664920800000</td>\n",
       "      <td>18.0</td>\n",
       "      <td>biała podlaska</td>\n",
       "      <td>16.4</td>\n",
       "      <td>7.1</td>\n",
       "      <td>11.2</td>\n",
       "      <td>16.4</td>\n",
       "      <td>5.9</td>\n",
       "      <td>10.9</td>\n",
       "      <td>8.1</td>\n",
       "      <td>...</td>\n",
       "      <td>222.3</td>\n",
       "      <td>72.8</td>\n",
       "      <td>18.1</td>\n",
       "      <td>81.9</td>\n",
       "      <td>7.0</td>\n",
       "      <td>4</td>\n",
       "      <td>Rain, Partially cloudy</td>\n",
       "      <td>49.4</td>\n",
       "      <td>1152.06</td>\n",
       "      <td>56942</td>\n",
       "    </tr>\n",
       "    <tr>\n",
       "      <th>3</th>\n",
       "      <td>1665525600000</td>\n",
       "      <td>42.0</td>\n",
       "      <td>biała podlaska</td>\n",
       "      <td>13.5</td>\n",
       "      <td>1.1</td>\n",
       "      <td>7.7</td>\n",
       "      <td>13.5</td>\n",
       "      <td>-0.5</td>\n",
       "      <td>7.3</td>\n",
       "      <td>4.5</td>\n",
       "      <td>...</td>\n",
       "      <td>264.8</td>\n",
       "      <td>57.8</td>\n",
       "      <td>11.3</td>\n",
       "      <td>129.3</td>\n",
       "      <td>11.1</td>\n",
       "      <td>5</td>\n",
       "      <td>Partially cloudy</td>\n",
       "      <td>49.4</td>\n",
       "      <td>1152.06</td>\n",
       "      <td>56942</td>\n",
       "    </tr>\n",
       "    <tr>\n",
       "      <th>4</th>\n",
       "      <td>1661032800000</td>\n",
       "      <td>10.0</td>\n",
       "      <td>biała podlaska</td>\n",
       "      <td>23.7</td>\n",
       "      <td>16.9</td>\n",
       "      <td>19.9</td>\n",
       "      <td>23.7</td>\n",
       "      <td>16.9</td>\n",
       "      <td>19.9</td>\n",
       "      <td>16.7</td>\n",
       "      <td>...</td>\n",
       "      <td>80.1</td>\n",
       "      <td>79.1</td>\n",
       "      <td>23.7</td>\n",
       "      <td>175.1</td>\n",
       "      <td>15.1</td>\n",
       "      <td>7</td>\n",
       "      <td>Partially cloudy</td>\n",
       "      <td>49.4</td>\n",
       "      <td>1152.06</td>\n",
       "      <td>56942</td>\n",
       "    </tr>\n",
       "  </tbody>\n",
       "</table>\n",
       "<p>5 rows × 28 columns</p>\n",
       "</div>"
      ],
      "text/plain": [
       "            date  pm10            city  tempmax  tempmin  temp  feelslikemax  \\\n",
       "0  1652392800000  19.0  biała podlaska     20.6      7.3  14.9          20.6   \n",
       "1  1664488800000  35.0  biała podlaska     12.9      2.6   8.3          12.9   \n",
       "2  1664920800000  18.0  biała podlaska     16.4      7.1  11.2          16.4   \n",
       "3  1665525600000  42.0  biała podlaska     13.5      1.1   7.7          13.5   \n",
       "4  1661032800000  10.0  biała podlaska     23.7     16.9  19.9          23.7   \n",
       "\n",
       "   feelslikemin  feelslike   dew  ...  winddir  cloudcover  visibility  \\\n",
       "0           7.3       14.9   6.2  ...    253.9        68.7        27.0   \n",
       "1           2.6        8.3   6.5  ...     59.8        73.6         7.6   \n",
       "2           5.9       10.9   8.1  ...    222.3        72.8        18.1   \n",
       "3          -0.5        7.3   4.5  ...    264.8        57.8        11.3   \n",
       "4          16.9       19.9  16.7  ...     80.1        79.1        23.7   \n",
       "\n",
       "   solarradiation  solarenergy  uvindex              conditions  area  \\\n",
       "0           293.1         25.4        8        Partially cloudy  49.4   \n",
       "1           100.4          8.6        5  Rain, Partially cloudy  49.4   \n",
       "2            81.9          7.0        4  Rain, Partially cloudy  49.4   \n",
       "3           129.3         11.1        5        Partially cloudy  49.4   \n",
       "4           175.1         15.1        7        Partially cloudy  49.4   \n",
       "\n",
       "   density  no_people  \n",
       "0  1152.06      56942  \n",
       "1  1152.06      56942  \n",
       "2  1152.06      56942  \n",
       "3  1152.06      56942  \n",
       "4  1152.06      56942  \n",
       "\n",
       "[5 rows x 28 columns]"
      ]
     },
     "execution_count": 32,
     "metadata": {},
     "output_type": "execute_result"
    }
   ],
   "source": [
    "query_show = query.show(5)\n",
    "col_names = query_show.columns\n",
    "\n",
    "                                         \n",
    "query_show"
   ]
  },
  {
   "cell_type": "code",
   "execution_count": 33,
   "id": "7aad7489",
   "metadata": {},
   "outputs": [],
   "source": [
    "category_cols = ['city','date','conditions']\n",
    "\n",
    "pred_col = \"pm10\"\n",
    "mapping_transformers = {col_name:fs.get_transformation_function(name='standard_scaler') for col_name in col_names if col_name not in category_cols and col_name != pred_col}\n",
    "category_cols = {col_name:fs.get_transformation_function(name='label_encoder') for col_name in category_cols if col_name not in ['date','aqi']}\n",
    "\n",
    "mapping_transformers.update(category_cols)"
   ]
  },
  {
   "cell_type": "code",
   "execution_count": 34,
   "id": "403df0b4",
   "metadata": {},
   "outputs": [
    {
     "name": "stdout",
     "output_type": "stream",
     "text": [
      "Feature view created successfully, explore it at \n",
      "https://c.app.hopsworks.ai:443/p/5476/fs/5383/fv/poland_air_quality_fv/version/1\n"
     ]
    }
   ],
   "source": [
    "feature_view = fs.create_feature_view(\n",
    "    name = 'poland_air_quality_fv',\n",
    "    version = 1,\n",
    "    transformation_functions = mapping_transformers,\n",
    "    query = query\n",
    ")"
   ]
  },
  {
   "cell_type": "markdown",
   "id": "0c723c54",
   "metadata": {},
   "source": [
    "For now `Feature View` is saved in Hopsworks and you can retrieve it using `FeatureStore.get_feature_view()`."
   ]
  },
  {
   "cell_type": "code",
   "execution_count": 23,
   "id": "721c4bcf",
   "metadata": {},
   "outputs": [],
   "source": [
    "feature_view = fs.get_feature_view(\n",
    "    name = 'poland_air_quality_fv',\n",
    "    version = 1\n",
    ")"
   ]
  },
  {
   "cell_type": "code",
   "execution_count": 37,
   "id": "6139ef7c",
   "metadata": {},
   "outputs": [],
   "source": [
    "# note: I've noticed that it fails randomly. Run the creation of the training dataset within the hopsworks UI\n",
    "#feature_view.create_training_data()"
   ]
  },
  {
   "cell_type": "code",
   "execution_count": null,
   "id": "a83f9219",
   "metadata": {},
   "outputs": [],
   "source": []
  }
 ],
 "metadata": {
  "kernelspec": {
   "display_name": "Python 3 (ipykernel)",
   "language": "python",
   "name": "python3"
  },
  "language_info": {
   "codemirror_mode": {
    "name": "ipython",
    "version": 3
   },
   "file_extension": ".py",
   "mimetype": "text/x-python",
   "name": "python",
   "nbconvert_exporter": "python",
   "pygments_lexer": "ipython3",
   "version": "3.8.5"
  }
 },
 "nbformat": 4,
 "nbformat_minor": 5
}
