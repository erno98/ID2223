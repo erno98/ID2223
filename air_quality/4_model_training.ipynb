{
 "cells": [
  {
   "cell_type": "markdown",
   "id": "dbd751f5",
   "metadata": {},
   "source": [
    "# <span style=\"font-width:bold; font-size: 3rem; color:#1EB182;\"><img src=\"../../images/icon102.png\" width=\"38px\"></img> **Hopsworks Feature Store** </span><span style=\"font-width:bold; font-size: 3rem; color:#333;\">- Part 04: Batch Predictions</span>\n",
    "\n",
    "[![Open In Colab](https://colab.research.google.com/assets/colab-badge.svg)](https://colab.research.google.com/github/logicalclocks/hopsworks-tutorials/blob/master/advanced_tutorials/{project_name}/{notebook_name}.ipynb)\n",
    "\n",
    "\n",
    "## 🗒️ This notebook is divided into the following sections:\n",
    "\n",
    "1. Loading the training data\n",
    "2. Train the model\n",
    "3. Register model in Hopsworks model registry\n",
    "\n",
    "![part3](../../images/03_model.png) "
   ]
  },
  {
   "cell_type": "markdown",
   "id": "aacb85de",
   "metadata": {},
   "source": [
    "### <span style='color:#ff5f27'> 📝 Imports"
   ]
  },
  {
   "cell_type": "code",
   "execution_count": 15,
   "id": "33dfb21d",
   "metadata": {},
   "outputs": [],
   "source": [
    "import pandas as pd\n",
    "\n",
    "from sklearn.ensemble import GradientBoostingRegressor\n",
    "from sklearn.metrics import f1_score\n",
    "\n",
    "import warnings\n",
    "warnings.filterwarnings(\"ignore\")"
   ]
  },
  {
   "cell_type": "markdown",
   "id": "181a72b0",
   "metadata": {},
   "source": [
    "---"
   ]
  },
  {
   "cell_type": "markdown",
   "id": "e05af617",
   "metadata": {},
   "source": [
    "## <span style=\"color:#ff5f27;\"> 📡 Connecting to Hopsworks Feature Store </span>"
   ]
  },
  {
   "cell_type": "code",
   "execution_count": 16,
   "id": "6539d56a",
   "metadata": {},
   "outputs": [
    {
     "name": "stdout",
     "output_type": "stream",
     "text": [
      "Connection closed.\n",
      "Connected. Call `.close()` to terminate connection gracefully.\n",
      "\n",
      "Multiple projects found. \n",
      "\n",
      "\t (1) ID2223_Ernest\n",
      "\t (2) ID2223_Anton\n",
      "\n",
      "Enter project to access: 1\n",
      "\n",
      "Logged in to project, explore it here https://c.app.hopsworks.ai:443/p/5476\n",
      "Connected. Call `.close()` to terminate connection gracefully.\n"
     ]
    }
   ],
   "source": [
    "import hopsworks\n",
    "\n",
    "project = hopsworks.login() \n",
    "\n",
    "fs = project.get_feature_store() "
   ]
  },
  {
   "cell_type": "markdown",
   "id": "2a8c76da",
   "metadata": {},
   "source": [
    "---"
   ]
  },
  {
   "cell_type": "markdown",
   "id": "4cb3492c",
   "metadata": {},
   "source": [
    "## <span style=\"color:#ff5f27;\">🪝 Feature View and Training Dataset Retrieval</span>"
   ]
  },
  {
   "cell_type": "code",
   "execution_count": 17,
   "id": "360857d2",
   "metadata": {},
   "outputs": [],
   "source": [
    "feature_view = fs.get_feature_view(\n",
    "    name = 'poland_air_quality_fv',\n",
    "    version = 1\n",
    ")"
   ]
  },
  {
   "cell_type": "code",
   "execution_count": null,
   "id": "b04e30a7",
   "metadata": {},
   "outputs": [],
   "source": [
    "train_data = feature_view.get_training_data(1)[0]\n",
    "\n",
    "train_data.head()"
   ]
  },
  {
   "cell_type": "markdown",
   "id": "1ad6e0df",
   "metadata": {},
   "source": [
    "---"
   ]
  },
  {
   "cell_type": "markdown",
   "id": "d275ae09",
   "metadata": {},
   "source": [
    "## <span style=\"color:#ff5f27;\">🧬 Modeling</span>"
   ]
  },
  {
   "cell_type": "code",
   "execution_count": 6,
   "id": "54e73700",
   "metadata": {},
   "outputs": [],
   "source": [
    "X = train_data.drop(columns=[\"date\"]).fillna(0)\n",
    "y = X.pop(\"aqi_next_day\")"
   ]
  },
  {
   "cell_type": "code",
   "execution_count": 7,
   "id": "b96b0b6a",
   "metadata": {},
   "outputs": [
    {
     "data": {
      "text/plain": [
       "GradientBoostingRegressor()"
      ]
     },
     "execution_count": 7,
     "metadata": {},
     "output_type": "execute_result"
    }
   ],
   "source": [
    "gb = GradientBoostingRegressor()\n",
    "gb.fit(X, y)"
   ]
  },
  {
   "cell_type": "markdown",
   "id": "41df0b12",
   "metadata": {},
   "source": [
    "### <span style='color:#ff5f27'> 👨🏻‍⚖️ Model Validation"
   ]
  },
  {
   "cell_type": "code",
   "execution_count": 8,
   "id": "4900e54c",
   "metadata": {},
   "outputs": [
    {
     "data": {
      "text/plain": [
       "0.47368421052631576"
      ]
     },
     "execution_count": 8,
     "metadata": {},
     "output_type": "execute_result"
    }
   ],
   "source": [
    "f1_score(y.astype('int'),[int(pred) for pred in gb.predict(X)],average='micro')"
   ]
  },
  {
   "cell_type": "code",
   "execution_count": 9,
   "id": "e1a41ecf",
   "metadata": {},
   "outputs": [
    {
     "data": {
      "text/plain": [
       "array([10,  6,  0, 23,  4, 10])"
      ]
     },
     "execution_count": 9,
     "metadata": {},
     "output_type": "execute_result"
    }
   ],
   "source": [
    "y.iloc[4:10].values"
   ]
  },
  {
   "cell_type": "code",
   "execution_count": 10,
   "id": "d337d21c",
   "metadata": {},
   "outputs": [
    {
     "data": {
      "text/html": [
       "<div>\n",
       "<style scoped>\n",
       "    .dataframe tbody tr th:only-of-type {\n",
       "        vertical-align: middle;\n",
       "    }\n",
       "\n",
       "    .dataframe tbody tr th {\n",
       "        vertical-align: top;\n",
       "    }\n",
       "\n",
       "    .dataframe thead th {\n",
       "        text-align: right;\n",
       "    }\n",
       "</style>\n",
       "<table border=\"1\" class=\"dataframe\">\n",
       "  <thead>\n",
       "    <tr style=\"text-align: right;\">\n",
       "      <th></th>\n",
       "      <th>aqi_real</th>\n",
       "      <th>aqi_pred</th>\n",
       "    </tr>\n",
       "  </thead>\n",
       "  <tbody>\n",
       "    <tr>\n",
       "      <th>0</th>\n",
       "      <td>10</td>\n",
       "      <td>9</td>\n",
       "    </tr>\n",
       "    <tr>\n",
       "      <th>1</th>\n",
       "      <td>6</td>\n",
       "      <td>6</td>\n",
       "    </tr>\n",
       "    <tr>\n",
       "      <th>2</th>\n",
       "      <td>0</td>\n",
       "      <td>0</td>\n",
       "    </tr>\n",
       "    <tr>\n",
       "      <th>3</th>\n",
       "      <td>23</td>\n",
       "      <td>22</td>\n",
       "    </tr>\n",
       "    <tr>\n",
       "      <th>4</th>\n",
       "      <td>4</td>\n",
       "      <td>3</td>\n",
       "    </tr>\n",
       "    <tr>\n",
       "      <th>5</th>\n",
       "      <td>10</td>\n",
       "      <td>9</td>\n",
       "    </tr>\n",
       "  </tbody>\n",
       "</table>\n",
       "</div>"
      ],
      "text/plain": [
       "   aqi_real  aqi_pred\n",
       "0        10         9\n",
       "1         6         6\n",
       "2         0         0\n",
       "3        23        22\n",
       "4         4         3\n",
       "5        10         9"
      ]
     },
     "execution_count": 10,
     "metadata": {},
     "output_type": "execute_result"
    }
   ],
   "source": [
    "pred_df = pd.DataFrame({\n",
    "    'aqi_real': y.iloc[4:10].values,\n",
    "    'aqi_pred': map(int, gb.predict(X.iloc[4:10]))\n",
    "}\n",
    ")\n",
    "pred_df"
   ]
  },
  {
   "cell_type": "markdown",
   "id": "bdd764c8",
   "metadata": {},
   "source": [
    "---"
   ]
  },
  {
   "cell_type": "markdown",
   "id": "f63c2cf2",
   "metadata": {},
   "source": [
    "## <span style='color:#ff5f27'>🗄 Model Registry</span>\n",
    "\n",
    "One of the features in Hopsworks is the model registry. This is where you can store different versions of models and compare their performance. Models from the registry can then be served as API endpoints."
   ]
  },
  {
   "cell_type": "code",
   "execution_count": 11,
   "id": "c553b659",
   "metadata": {},
   "outputs": [
    {
     "name": "stdout",
     "output_type": "stream",
     "text": [
      "Connected. Call `.close()` to terminate connection gracefully.\n"
     ]
    }
   ],
   "source": [
    "mr = project.get_model_registry()"
   ]
  },
  {
   "cell_type": "markdown",
   "id": "96efc602",
   "metadata": {},
   "source": [
    "### <span style=\"color:#ff5f27;\">⚙️ Model Schema</span>"
   ]
  },
  {
   "cell_type": "markdown",
   "id": "f9ddad82",
   "metadata": {},
   "source": [
    "The model needs to be set up with a [Model Schema](https://docs.hopsworks.ai/machine-learning-api/latest/generated/model_schema/), which describes the inputs and outputs for a model.\n",
    "\n",
    "A Model Schema can be automatically generated from training examples, as shown below."
   ]
  },
  {
   "cell_type": "code",
   "execution_count": 12,
   "id": "cd3f3751",
   "metadata": {
    "scrolled": true
   },
   "outputs": [
    {
     "data": {
      "text/plain": [
       "{'input_schema': {'columnar_schema': [{'name': 'city', 'type': 'int64'},\n",
       "   {'name': 'aqi', 'type': 'int64'},\n",
       "   {'name': 'iaqi_h', 'type': 'float64'},\n",
       "   {'name': 'iaqi_p', 'type': 'float64'},\n",
       "   {'name': 'iaqi_pm10', 'type': 'float64'},\n",
       "   {'name': 'iaqi_t', 'type': 'float64'},\n",
       "   {'name': 'o3_avg', 'type': 'float64'},\n",
       "   {'name': 'o3_max', 'type': 'float64'},\n",
       "   {'name': 'o3_min', 'type': 'float64'},\n",
       "   {'name': 'pm10_avg', 'type': 'float64'},\n",
       "   {'name': 'pm10_max', 'type': 'float64'},\n",
       "   {'name': 'pm10_min', 'type': 'float64'},\n",
       "   {'name': 'pm25_avg', 'type': 'float64'},\n",
       "   {'name': 'pm25_max', 'type': 'float64'},\n",
       "   {'name': 'pm25_min', 'type': 'float64'},\n",
       "   {'name': 'tempmax', 'type': 'float64'},\n",
       "   {'name': 'tempmin', 'type': 'float64'},\n",
       "   {'name': 'temp', 'type': 'float64'},\n",
       "   {'name': 'feelslikemax', 'type': 'float64'},\n",
       "   {'name': 'feelslikemin', 'type': 'float64'},\n",
       "   {'name': 'feelslike', 'type': 'float64'},\n",
       "   {'name': 'dew', 'type': 'float64'},\n",
       "   {'name': 'humidity', 'type': 'float64'},\n",
       "   {'name': 'precip', 'type': 'float64'},\n",
       "   {'name': 'precipprob', 'type': 'float64'},\n",
       "   {'name': 'precipcover', 'type': 'float64'},\n",
       "   {'name': 'snow', 'type': 'float64'},\n",
       "   {'name': 'snowdepth', 'type': 'float64'},\n",
       "   {'name': 'windgust', 'type': 'float64'},\n",
       "   {'name': 'windspeed', 'type': 'float64'},\n",
       "   {'name': 'winddir', 'type': 'float64'},\n",
       "   {'name': 'pressure', 'type': 'float64'},\n",
       "   {'name': 'cloudcover', 'type': 'float64'},\n",
       "   {'name': 'visibility', 'type': 'float64'},\n",
       "   {'name': 'solarradiation', 'type': 'float64'},\n",
       "   {'name': 'solarenergy', 'type': 'float64'},\n",
       "   {'name': 'uvindex', 'type': 'float64'},\n",
       "   {'name': 'conditions', 'type': 'int64'}]},\n",
       " 'output_schema': {'columnar_schema': [{'name': 'aqi_next_day',\n",
       "    'type': 'int64'}]}}"
      ]
     },
     "execution_count": 12,
     "metadata": {},
     "output_type": "execute_result"
    }
   ],
   "source": [
    "from hsml.schema import Schema\n",
    "from hsml.model_schema import ModelSchema\n",
    "\n",
    "input_schema = Schema(X)\n",
    "output_schema = Schema(y)\n",
    "model_schema = ModelSchema(input_schema=input_schema, output_schema=output_schema)\n",
    "\n",
    "model_schema.to_dict()"
   ]
  },
  {
   "cell_type": "code",
   "execution_count": 13,
   "id": "d2777f5e",
   "metadata": {
    "scrolled": true
   },
   "outputs": [
    {
     "data": {
      "text/plain": [
       "['model.pkl']"
      ]
     },
     "execution_count": 13,
     "metadata": {},
     "output_type": "execute_result"
    }
   ],
   "source": [
    "import joblib\n",
    "\n",
    "joblib.dump(gb, 'model.pkl')"
   ]
  },
  {
   "cell_type": "code",
   "execution_count": 14,
   "id": "41f6811e",
   "metadata": {},
   "outputs": [
    {
     "data": {
      "application/vnd.jupyter.widget-view+json": {
       "model_id": "ea81e98b598f4c95b0d531f0a6ce3f32",
       "version_major": 2,
       "version_minor": 0
      },
      "text/plain": [
       "  0%|          | 0/6 [00:00<?, ?it/s]"
      ]
     },
     "metadata": {},
     "output_type": "display_data"
    },
    {
     "name": "stdout",
     "output_type": "stream",
     "text": [
      "Model created, explore it at https://c.app.hopsworks.ai:443/p/5476/models/gradient_boost_model/2\n"
     ]
    },
    {
     "data": {
      "text/plain": [
       "Model(name: 'gradient_boost_model', version: 2)"
      ]
     },
     "execution_count": 14,
     "metadata": {},
     "output_type": "execute_result"
    }
   ],
   "source": [
    "model = mr.sklearn.create_model(\n",
    "    name=\"gradient_boost_model\",\n",
    "    metrics={\"f1\": \"0.5\"},\n",
    "    description=\"Gradient Boost Regressor.\",\n",
    "    input_example=X.sample().to_numpy(),\n",
    "    model_schema=model_schema\n",
    ")\n",
    "\n",
    "model.save('model.pkl')"
   ]
  }
 ],
 "metadata": {
  "kernelspec": {
   "display_name": "Python 3 (ipykernel)",
   "language": "python",
   "name": "python3"
  },
  "language_info": {
   "codemirror_mode": {
    "name": "ipython",
    "version": 3
   },
   "file_extension": ".py",
   "mimetype": "text/x-python",
   "name": "python",
   "nbconvert_exporter": "python",
   "pygments_lexer": "ipython3",
   "version": "3.8.5"
  }
 },
 "nbformat": 4,
 "nbformat_minor": 5
}
