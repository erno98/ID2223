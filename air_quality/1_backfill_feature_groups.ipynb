{
 "cells": [
  {
   "cell_type": "markdown",
   "id": "f04d5c5e",
   "metadata": {},
   "source": [
    "## <span style='color:#ff5f27'> 📝 Imports"
   ]
  },
  {
   "cell_type": "code",
   "execution_count": 2,
   "id": "cd165941",
   "metadata": {},
   "outputs": [],
   "source": [
    "import pandas as pd\n",
    "\n",
    "from functions.functions import *"
   ]
  },
  {
   "cell_type": "markdown",
   "id": "ba9903fc",
   "metadata": {},
   "source": [
    "---"
   ]
  },
  {
   "cell_type": "markdown",
   "id": "2246ca9d",
   "metadata": {},
   "source": [
    "## <span style='color:#ff5f27'> 💽 Loading Historical Data</span>\n"
   ]
  },
  {
   "cell_type": "markdown",
   "id": "b4a1c5d1",
   "metadata": {},
   "source": [
    "#### <span style='color:#ff5f27'> 👩🏻‍🔬 Air Quality Data"
   ]
  },
  {
   "cell_type": "code",
   "execution_count": 14,
   "id": "8e605ce3",
   "metadata": {},
   "outputs": [
    {
     "data": {
      "text/html": [
       "<div>\n",
       "<style scoped>\n",
       "    .dataframe tbody tr th:only-of-type {\n",
       "        vertical-align: middle;\n",
       "    }\n",
       "\n",
       "    .dataframe tbody tr th {\n",
       "        vertical-align: top;\n",
       "    }\n",
       "\n",
       "    .dataframe thead th {\n",
       "        text-align: right;\n",
       "    }\n",
       "</style>\n",
       "<table border=\"1\" class=\"dataframe\">\n",
       "  <thead>\n",
       "    <tr style=\"text-align: right;\">\n",
       "      <th></th>\n",
       "      <th>date</th>\n",
       "      <th>pm10</th>\n",
       "      <th>o3</th>\n",
       "      <th>no2</th>\n",
       "      <th>so2</th>\n",
       "      <th>co</th>\n",
       "      <th>city</th>\n",
       "      <th>pm25</th>\n",
       "    </tr>\n",
       "  </thead>\n",
       "  <tbody>\n",
       "    <tr>\n",
       "      <th>0</th>\n",
       "      <td>2023-1-2</td>\n",
       "      <td>23.0</td>\n",
       "      <td>18.0</td>\n",
       "      <td>NaN</td>\n",
       "      <td>3.0</td>\n",
       "      <td>NaN</td>\n",
       "      <td>bielsko biała</td>\n",
       "      <td>NaN</td>\n",
       "    </tr>\n",
       "    <tr>\n",
       "      <th>1</th>\n",
       "      <td>2023-1-3</td>\n",
       "      <td>25.0</td>\n",
       "      <td>27.0</td>\n",
       "      <td>7.0</td>\n",
       "      <td>2.0</td>\n",
       "      <td>NaN</td>\n",
       "      <td>bielsko biała</td>\n",
       "      <td>NaN</td>\n",
       "    </tr>\n",
       "    <tr>\n",
       "      <th>2</th>\n",
       "      <td>2023-1-4</td>\n",
       "      <td>19.0</td>\n",
       "      <td>24.0</td>\n",
       "      <td>4.0</td>\n",
       "      <td>1.0</td>\n",
       "      <td>NaN</td>\n",
       "      <td>bielsko biała</td>\n",
       "      <td>NaN</td>\n",
       "    </tr>\n",
       "    <tr>\n",
       "      <th>3</th>\n",
       "      <td>2023-1-5</td>\n",
       "      <td>9.0</td>\n",
       "      <td>20.0</td>\n",
       "      <td>3.0</td>\n",
       "      <td>1.0</td>\n",
       "      <td>NaN</td>\n",
       "      <td>bielsko biała</td>\n",
       "      <td>NaN</td>\n",
       "    </tr>\n",
       "    <tr>\n",
       "      <th>4</th>\n",
       "      <td>2023-1-6</td>\n",
       "      <td>13.0</td>\n",
       "      <td>17.0</td>\n",
       "      <td>NaN</td>\n",
       "      <td>2.0</td>\n",
       "      <td>NaN</td>\n",
       "      <td>bielsko biała</td>\n",
       "      <td>NaN</td>\n",
       "    </tr>\n",
       "  </tbody>\n",
       "</table>\n",
       "</div>"
      ],
      "text/plain": [
       "       date  pm10    o3  no2  so2  co           city  pm25\n",
       "0  2023-1-2  23.0  18.0  NaN  3.0 NaN  bielsko biała   NaN\n",
       "1  2023-1-3  25.0  27.0  7.0  2.0 NaN  bielsko biała   NaN\n",
       "2  2023-1-4  19.0  24.0  4.0  1.0 NaN  bielsko biała   NaN\n",
       "3  2023-1-5   9.0  20.0  3.0  1.0 NaN  bielsko biała   NaN\n",
       "4  2023-1-6  13.0  17.0  NaN  2.0 NaN  bielsko biała   NaN"
      ]
     },
     "execution_count": 14,
     "metadata": {},
     "output_type": "execute_result"
    }
   ],
   "source": [
    "df_air_quality = pd.read_csv('data_poland/air_quality/air_quality_merged.csv')\n",
    "df_air_quality.head()"
   ]
  },
  {
   "cell_type": "code",
   "execution_count": 15,
   "id": "74e2af92",
   "metadata": {},
   "outputs": [
    {
     "data": {
      "text/plain": [
       "array(['bielsko biała', 'cracow', 'poznań', 'gdańsk', 'wroclaw',\n",
       "       'biała podlaska', 'katowice', 'warsaw'], dtype=object)"
      ]
     },
     "execution_count": 15,
     "metadata": {},
     "output_type": "execute_result"
    }
   ],
   "source": [
    "df_air_quality.city.unique()"
   ]
  },
  {
   "cell_type": "code",
   "execution_count": 16,
   "id": "e7c884b9",
   "metadata": {},
   "outputs": [
    {
     "data": {
      "text/html": [
       "<div>\n",
       "<style scoped>\n",
       "    .dataframe tbody tr th:only-of-type {\n",
       "        vertical-align: middle;\n",
       "    }\n",
       "\n",
       "    .dataframe tbody tr th {\n",
       "        vertical-align: top;\n",
       "    }\n",
       "\n",
       "    .dataframe thead th {\n",
       "        text-align: right;\n",
       "    }\n",
       "</style>\n",
       "<table border=\"1\" class=\"dataframe\">\n",
       "  <thead>\n",
       "    <tr style=\"text-align: right;\">\n",
       "      <th></th>\n",
       "      <th>date</th>\n",
       "      <th>pm10</th>\n",
       "      <th>o3</th>\n",
       "      <th>no2</th>\n",
       "      <th>so2</th>\n",
       "      <th>co</th>\n",
       "      <th>city</th>\n",
       "      <th>pm25</th>\n",
       "    </tr>\n",
       "  </thead>\n",
       "  <tbody>\n",
       "    <tr>\n",
       "      <th>0</th>\n",
       "      <td>1411077600000</td>\n",
       "      <td>45.0</td>\n",
       "      <td>34.0</td>\n",
       "      <td>3.0</td>\n",
       "      <td>4.0</td>\n",
       "      <td>4.0</td>\n",
       "      <td>biała podlaska</td>\n",
       "      <td>NaN</td>\n",
       "    </tr>\n",
       "    <tr>\n",
       "      <th>1</th>\n",
       "      <td>1411164000000</td>\n",
       "      <td>NaN</td>\n",
       "      <td>26.0</td>\n",
       "      <td>4.0</td>\n",
       "      <td>2.0</td>\n",
       "      <td>NaN</td>\n",
       "      <td>biała podlaska</td>\n",
       "      <td>99.0</td>\n",
       "    </tr>\n",
       "    <tr>\n",
       "      <th>2</th>\n",
       "      <td>1411250400000</td>\n",
       "      <td>NaN</td>\n",
       "      <td>32.0</td>\n",
       "      <td>NaN</td>\n",
       "      <td>1.0</td>\n",
       "      <td>NaN</td>\n",
       "      <td>biała podlaska</td>\n",
       "      <td>NaN</td>\n",
       "    </tr>\n",
       "    <tr>\n",
       "      <th>3</th>\n",
       "      <td>1411336800000</td>\n",
       "      <td>NaN</td>\n",
       "      <td>21.0</td>\n",
       "      <td>NaN</td>\n",
       "      <td>1.0</td>\n",
       "      <td>NaN</td>\n",
       "      <td>biała podlaska</td>\n",
       "      <td>NaN</td>\n",
       "    </tr>\n",
       "    <tr>\n",
       "      <th>4</th>\n",
       "      <td>1411423200000</td>\n",
       "      <td>NaN</td>\n",
       "      <td>23.0</td>\n",
       "      <td>NaN</td>\n",
       "      <td>1.0</td>\n",
       "      <td>NaN</td>\n",
       "      <td>biała podlaska</td>\n",
       "      <td>NaN</td>\n",
       "    </tr>\n",
       "  </tbody>\n",
       "</table>\n",
       "</div>"
      ],
      "text/plain": [
       "            date  pm10    o3  no2  so2   co            city  pm25\n",
       "0  1411077600000  45.0  34.0  3.0  4.0  4.0  biała podlaska   NaN\n",
       "1  1411164000000   NaN  26.0  4.0  2.0  NaN  biała podlaska  99.0\n",
       "2  1411250400000   NaN  32.0  NaN  1.0  NaN  biała podlaska   NaN\n",
       "3  1411336800000   NaN  21.0  NaN  1.0  NaN  biała podlaska   NaN\n",
       "4  1411423200000   NaN  23.0  NaN  1.0  NaN  biała podlaska   NaN"
      ]
     },
     "execution_count": 16,
     "metadata": {},
     "output_type": "execute_result"
    }
   ],
   "source": [
    "df_air_quality.date = df_air_quality.date.apply(timestamp_2_time)\n",
    "df_air_quality.sort_values(by = ['city','date'],inplace = True,ignore_index = True)\n",
    "\n",
    "df_air_quality.head()"
   ]
  },
  {
   "cell_type": "markdown",
   "id": "4687e802",
   "metadata": {},
   "source": [
    "#### <span style='color:#ff5f27'> 🌦 Weather Data"
   ]
  },
  {
   "cell_type": "code",
   "execution_count": 33,
   "id": "c46283b4",
   "metadata": {},
   "outputs": [
    {
     "data": {
      "text/html": [
       "<div>\n",
       "<style scoped>\n",
       "    .dataframe tbody tr th:only-of-type {\n",
       "        vertical-align: middle;\n",
       "    }\n",
       "\n",
       "    .dataframe tbody tr th {\n",
       "        vertical-align: top;\n",
       "    }\n",
       "\n",
       "    .dataframe thead th {\n",
       "        text-align: right;\n",
       "    }\n",
       "</style>\n",
       "<table border=\"1\" class=\"dataframe\">\n",
       "  <thead>\n",
       "    <tr style=\"text-align: right;\">\n",
       "      <th></th>\n",
       "      <th>city</th>\n",
       "      <th>date</th>\n",
       "      <th>tempmax</th>\n",
       "      <th>tempmin</th>\n",
       "      <th>temp</th>\n",
       "      <th>feelslikemax</th>\n",
       "      <th>feelslikemin</th>\n",
       "      <th>feelslike</th>\n",
       "      <th>dew</th>\n",
       "      <th>humidity</th>\n",
       "      <th>...</th>\n",
       "      <th>snowdepth</th>\n",
       "      <th>windgust</th>\n",
       "      <th>windspeed</th>\n",
       "      <th>winddir</th>\n",
       "      <th>cloudcover</th>\n",
       "      <th>visibility</th>\n",
       "      <th>solarradiation</th>\n",
       "      <th>solarenergy</th>\n",
       "      <th>uvindex</th>\n",
       "      <th>conditions</th>\n",
       "    </tr>\n",
       "  </thead>\n",
       "  <tbody>\n",
       "    <tr>\n",
       "      <th>0</th>\n",
       "      <td>bielsko biała</td>\n",
       "      <td>2022-01-01</td>\n",
       "      <td>10.7</td>\n",
       "      <td>8.3</td>\n",
       "      <td>9.1</td>\n",
       "      <td>10.7</td>\n",
       "      <td>5.4</td>\n",
       "      <td>6.6</td>\n",
       "      <td>8.3</td>\n",
       "      <td>95.1</td>\n",
       "      <td>...</td>\n",
       "      <td>41.4</td>\n",
       "      <td>46.7</td>\n",
       "      <td>32.2</td>\n",
       "      <td>245.6</td>\n",
       "      <td>99.0</td>\n",
       "      <td>7.4</td>\n",
       "      <td>11.6</td>\n",
       "      <td>1.0</td>\n",
       "      <td>1</td>\n",
       "      <td>Rain, Overcast</td>\n",
       "    </tr>\n",
       "    <tr>\n",
       "      <th>1</th>\n",
       "      <td>bielsko biała</td>\n",
       "      <td>2022-01-02</td>\n",
       "      <td>12.0</td>\n",
       "      <td>6.1</td>\n",
       "      <td>9.6</td>\n",
       "      <td>12.0</td>\n",
       "      <td>4.8</td>\n",
       "      <td>9.2</td>\n",
       "      <td>5.2</td>\n",
       "      <td>75.1</td>\n",
       "      <td>...</td>\n",
       "      <td>35.1</td>\n",
       "      <td>54.0</td>\n",
       "      <td>39.0</td>\n",
       "      <td>197.7</td>\n",
       "      <td>92.6</td>\n",
       "      <td>40.5</td>\n",
       "      <td>30.9</td>\n",
       "      <td>2.6</td>\n",
       "      <td>2</td>\n",
       "      <td>Rain, Overcast</td>\n",
       "    </tr>\n",
       "    <tr>\n",
       "      <th>2</th>\n",
       "      <td>bielsko biała</td>\n",
       "      <td>2022-01-03</td>\n",
       "      <td>10.5</td>\n",
       "      <td>7.1</td>\n",
       "      <td>8.6</td>\n",
       "      <td>10.5</td>\n",
       "      <td>3.0</td>\n",
       "      <td>4.9</td>\n",
       "      <td>3.2</td>\n",
       "      <td>69.3</td>\n",
       "      <td>...</td>\n",
       "      <td>28.7</td>\n",
       "      <td>68.1</td>\n",
       "      <td>35.8</td>\n",
       "      <td>230.0</td>\n",
       "      <td>83.1</td>\n",
       "      <td>46.2</td>\n",
       "      <td>25.5</td>\n",
       "      <td>2.2</td>\n",
       "      <td>2</td>\n",
       "      <td>Rain, Partially cloudy</td>\n",
       "    </tr>\n",
       "  </tbody>\n",
       "</table>\n",
       "<p>3 rows × 24 columns</p>\n",
       "</div>"
      ],
      "text/plain": [
       "            city        date  tempmax  tempmin  temp  feelslikemax  \\\n",
       "0  bielsko biała  2022-01-01     10.7      8.3   9.1          10.7   \n",
       "1  bielsko biała  2022-01-02     12.0      6.1   9.6          12.0   \n",
       "2  bielsko biała  2022-01-03     10.5      7.1   8.6          10.5   \n",
       "\n",
       "   feelslikemin  feelslike  dew  humidity  ...  snowdepth  windgust  \\\n",
       "0           5.4        6.6  8.3      95.1  ...       41.4      46.7   \n",
       "1           4.8        9.2  5.2      75.1  ...       35.1      54.0   \n",
       "2           3.0        4.9  3.2      69.3  ...       28.7      68.1   \n",
       "\n",
       "   windspeed  winddir  cloudcover  visibility  solarradiation  solarenergy  \\\n",
       "0       32.2    245.6        99.0         7.4            11.6          1.0   \n",
       "1       39.0    197.7        92.6        40.5            30.9          2.6   \n",
       "2       35.8    230.0        83.1        46.2            25.5          2.2   \n",
       "\n",
       "   uvindex              conditions  \n",
       "0        1          Rain, Overcast  \n",
       "1        2          Rain, Overcast  \n",
       "2        2  Rain, Partially cloudy  \n",
       "\n",
       "[3 rows x 24 columns]"
      ]
     },
     "execution_count": 33,
     "metadata": {},
     "output_type": "execute_result"
    }
   ],
   "source": [
    "df_weather = pd.read_csv('data_poland/weather/weather_merged.csv')\n",
    "\n",
    "df_weather.head(3)"
   ]
  },
  {
   "cell_type": "code",
   "execution_count": 34,
   "id": "8d5dcd0a",
   "metadata": {},
   "outputs": [
    {
     "data": {
      "text/html": [
       "<div>\n",
       "<style scoped>\n",
       "    .dataframe tbody tr th:only-of-type {\n",
       "        vertical-align: middle;\n",
       "    }\n",
       "\n",
       "    .dataframe tbody tr th {\n",
       "        vertical-align: top;\n",
       "    }\n",
       "\n",
       "    .dataframe thead th {\n",
       "        text-align: right;\n",
       "    }\n",
       "</style>\n",
       "<table border=\"1\" class=\"dataframe\">\n",
       "  <thead>\n",
       "    <tr style=\"text-align: right;\">\n",
       "      <th></th>\n",
       "      <th>city</th>\n",
       "      <th>date</th>\n",
       "      <th>tempmax</th>\n",
       "      <th>tempmin</th>\n",
       "      <th>temp</th>\n",
       "      <th>feelslikemax</th>\n",
       "      <th>feelslikemin</th>\n",
       "      <th>feelslike</th>\n",
       "      <th>dew</th>\n",
       "      <th>humidity</th>\n",
       "      <th>...</th>\n",
       "      <th>snowdepth</th>\n",
       "      <th>windgust</th>\n",
       "      <th>windspeed</th>\n",
       "      <th>winddir</th>\n",
       "      <th>cloudcover</th>\n",
       "      <th>visibility</th>\n",
       "      <th>solarradiation</th>\n",
       "      <th>solarenergy</th>\n",
       "      <th>uvindex</th>\n",
       "      <th>conditions</th>\n",
       "    </tr>\n",
       "  </thead>\n",
       "  <tbody>\n",
       "    <tr>\n",
       "      <th>0</th>\n",
       "      <td>biała podlaska</td>\n",
       "      <td>1640991600000</td>\n",
       "      <td>9.4</td>\n",
       "      <td>2.7</td>\n",
       "      <td>6.6</td>\n",
       "      <td>6.8</td>\n",
       "      <td>-0.5</td>\n",
       "      <td>3.6</td>\n",
       "      <td>4.6</td>\n",
       "      <td>87.9</td>\n",
       "      <td>...</td>\n",
       "      <td>0.0</td>\n",
       "      <td>50.4</td>\n",
       "      <td>22.4</td>\n",
       "      <td>303.9</td>\n",
       "      <td>95.7</td>\n",
       "      <td>27.3</td>\n",
       "      <td>14.8</td>\n",
       "      <td>1.3</td>\n",
       "      <td>1</td>\n",
       "      <td>Rain, Overcast</td>\n",
       "    </tr>\n",
       "    <tr>\n",
       "      <th>1</th>\n",
       "      <td>biała podlaska</td>\n",
       "      <td>1641078000000</td>\n",
       "      <td>8.0</td>\n",
       "      <td>-0.6</td>\n",
       "      <td>3.2</td>\n",
       "      <td>5.2</td>\n",
       "      <td>-3.2</td>\n",
       "      <td>0.6</td>\n",
       "      <td>1.6</td>\n",
       "      <td>89.2</td>\n",
       "      <td>...</td>\n",
       "      <td>0.0</td>\n",
       "      <td>39.6</td>\n",
       "      <td>18.7</td>\n",
       "      <td>200.3</td>\n",
       "      <td>90.5</td>\n",
       "      <td>21.6</td>\n",
       "      <td>15.4</td>\n",
       "      <td>1.2</td>\n",
       "      <td>1</td>\n",
       "      <td>Rain, Overcast</td>\n",
       "    </tr>\n",
       "    <tr>\n",
       "      <th>2</th>\n",
       "      <td>biała podlaska</td>\n",
       "      <td>1641164400000</td>\n",
       "      <td>8.5</td>\n",
       "      <td>6.0</td>\n",
       "      <td>7.4</td>\n",
       "      <td>5.7</td>\n",
       "      <td>2.7</td>\n",
       "      <td>4.5</td>\n",
       "      <td>5.1</td>\n",
       "      <td>85.7</td>\n",
       "      <td>...</td>\n",
       "      <td>0.0</td>\n",
       "      <td>57.6</td>\n",
       "      <td>24.4</td>\n",
       "      <td>260.6</td>\n",
       "      <td>87.1</td>\n",
       "      <td>21.3</td>\n",
       "      <td>12.7</td>\n",
       "      <td>1.1</td>\n",
       "      <td>1</td>\n",
       "      <td>Rain, Partially cloudy</td>\n",
       "    </tr>\n",
       "  </tbody>\n",
       "</table>\n",
       "<p>3 rows × 24 columns</p>\n",
       "</div>"
      ],
      "text/plain": [
       "             city           date  tempmax  tempmin  temp  feelslikemax  \\\n",
       "0  biała podlaska  1640991600000      9.4      2.7   6.6           6.8   \n",
       "1  biała podlaska  1641078000000      8.0     -0.6   3.2           5.2   \n",
       "2  biała podlaska  1641164400000      8.5      6.0   7.4           5.7   \n",
       "\n",
       "   feelslikemin  feelslike  dew  humidity  ...  snowdepth  windgust  \\\n",
       "0          -0.5        3.6  4.6      87.9  ...        0.0      50.4   \n",
       "1          -3.2        0.6  1.6      89.2  ...        0.0      39.6   \n",
       "2           2.7        4.5  5.1      85.7  ...        0.0      57.6   \n",
       "\n",
       "   windspeed  winddir  cloudcover  visibility  solarradiation  solarenergy  \\\n",
       "0       22.4    303.9        95.7        27.3            14.8          1.3   \n",
       "1       18.7    200.3        90.5        21.6            15.4          1.2   \n",
       "2       24.4    260.6        87.1        21.3            12.7          1.1   \n",
       "\n",
       "   uvindex              conditions  \n",
       "0        1          Rain, Overcast  \n",
       "1        1          Rain, Overcast  \n",
       "2        1  Rain, Partially cloudy  \n",
       "\n",
       "[3 rows x 24 columns]"
      ]
     },
     "execution_count": 34,
     "metadata": {},
     "output_type": "execute_result"
    }
   ],
   "source": [
    "df_weather.date = df_weather.date.apply(timestamp_2_time)\n",
    "df_weather.sort_values(by=['city', 'date'],inplace=True, ignore_index=True)\n",
    "\n",
    "df_weather = df_weather.dropna()\n",
    "\n",
    "df_weather.head(3)"
   ]
  },
  {
   "cell_type": "markdown",
   "id": "cc9b7ad6",
   "metadata": {},
   "source": [
    "---"
   ]
  },
  {
   "cell_type": "markdown",
   "id": "cb6f83ba",
   "metadata": {},
   "source": [
    "## <span style=\"color:#ff5f27;\"> 🔮 Connecting to Hopsworks Feature Store </span>"
   ]
  },
  {
   "cell_type": "code",
   "execution_count": 12,
   "id": "dd068240",
   "metadata": {},
   "outputs": [
    {
     "name": "stdout",
     "output_type": "stream",
     "text": [
      "Connected. Call `.close()` to terminate connection gracefully.\n",
      "\n",
      "Multiple projects found. \n",
      "\n",
      "\t (1) ID2223_Anton\n",
      "\t (2) ID2223_Ernest\n",
      "\n",
      "Enter project to access: 2\n",
      "\n",
      "Logged in to project, explore it here https://c.app.hopsworks.ai:443/p/5476\n",
      "Connected. Call `.close()` to terminate connection gracefully.\n"
     ]
    }
   ],
   "source": [
    "import hopsworks\n",
    "\n",
    "project = hopsworks.login()\n",
    "\n",
    "fs = project.get_feature_store() "
   ]
  },
  {
   "cell_type": "markdown",
   "id": "5d512806",
   "metadata": {},
   "source": [
    "---"
   ]
  },
  {
   "cell_type": "markdown",
   "id": "63d8c3b9",
   "metadata": {},
   "source": [
    "## <span style=\"color:#ff5f27;\">🪄 Creating Feature Groups</span>"
   ]
  },
  {
   "cell_type": "markdown",
   "id": "4a2515c4",
   "metadata": {},
   "source": [
    "#### <span style='color:#ff5f27'> 👩🏻‍🔬 Air Quality Data"
   ]
  },
  {
   "cell_type": "code",
   "execution_count": 24,
   "id": "9d7088a8",
   "metadata": {},
   "outputs": [
    {
     "name": "stdout",
     "output_type": "stream",
     "text": [
      "Feature Group created successfully, explore it at \n",
      "https://c.app.hopsworks.ai:443/p/5476/fs/5383/fg/14949\n"
     ]
    },
    {
     "data": {
      "application/vnd.jupyter.widget-view+json": {
       "model_id": "652435c12b22462ca98a9b755f009e04",
       "version_major": 2,
       "version_minor": 0
      },
      "text/plain": [
       "Uploading Dataframe: 0.00% |          | Rows 0/22362 | Elapsed Time: 00:00 | Remaining Time: ?"
      ]
     },
     "metadata": {},
     "output_type": "display_data"
    },
    {
     "name": "stdout",
     "output_type": "stream",
     "text": [
      "Launching offline feature group backfill job...\n",
      "Backfill Job started successfully, you can follow the progress at \n",
      "https://c.app.hopsworks.ai/p/5476/jobs/named/poland_air_quality_fg_1_offline_fg_backfill/executions\n"
     ]
    },
    {
     "data": {
      "text/plain": [
       "(<hsfs.core.job.Job at 0x7f8aae3c7610>, None)"
      ]
     },
     "execution_count": 24,
     "metadata": {},
     "output_type": "execute_result"
    }
   ],
   "source": [
    "air_quality_fg = fs.get_or_create_feature_group(\n",
    "        name = 'poland_air_quality_fg',\n",
    "        description = 'Air Quality characteristics of each day for Polish cities',\n",
    "        version = 1,\n",
    "        primary_key = ['city','date'],\n",
    "        online_enabled = True,\n",
    "        event_time = 'date'\n",
    "    )    \n",
    "\n",
    "air_quality_fg.insert(df_air_quality)"
   ]
  },
  {
   "cell_type": "markdown",
   "id": "a73a9029",
   "metadata": {},
   "source": [
    "#### <span style='color:#ff5f27'> 🌦 Weather Data"
   ]
  },
  {
   "cell_type": "code",
   "execution_count": 38,
   "id": "acc2b799",
   "metadata": {},
   "outputs": [
    {
     "data": {
      "application/vnd.jupyter.widget-view+json": {
       "model_id": "76225649f78b4dc39f4c42183a9e78ef",
       "version_major": 2,
       "version_minor": 0
      },
      "text/plain": [
       "Uploading Dataframe: 0.00% |          | Rows 0/2922 | Elapsed Time: 00:00 | Remaining Time: ?"
      ]
     },
     "metadata": {},
     "output_type": "display_data"
    },
    {
     "name": "stdout",
     "output_type": "stream",
     "text": [
      "Launching offline feature group backfill job...\n",
      "Backfill Job started successfully, you can follow the progress at \n",
      "https://c.app.hopsworks.ai/p/5476/jobs/named/poland_weather_fg_1_offline_fg_backfill/executions\n"
     ]
    },
    {
     "data": {
      "text/plain": [
       "(<hsfs.core.job.Job at 0x7f8aae608ca0>, None)"
      ]
     },
     "execution_count": 38,
     "metadata": {},
     "output_type": "execute_result"
    }
   ],
   "source": [
    "weather_fg = fs.get_or_create_feature_group(\n",
    "        name = 'poland_weather_fg',\n",
    "        description = 'Weather characteristics of each day for Polish cities',\n",
    "        version = 1,\n",
    "        primary_key = ['city','date'],\n",
    "        online_enabled = True,\n",
    "        event_time = 'date'\n",
    "    )    \n",
    "\n",
    "weather_fg.insert(df_weather)"
   ]
  },
  {
   "cell_type": "markdown",
   "id": "4e652e68",
   "metadata": {},
   "source": [
    "Meta data"
   ]
  },
  {
   "cell_type": "code",
   "execution_count": 45,
   "id": "82eb597d",
   "metadata": {},
   "outputs": [
    {
     "data": {
      "text/html": [
       "<div>\n",
       "<style scoped>\n",
       "    .dataframe tbody tr th:only-of-type {\n",
       "        vertical-align: middle;\n",
       "    }\n",
       "\n",
       "    .dataframe tbody tr th {\n",
       "        vertical-align: top;\n",
       "    }\n",
       "\n",
       "    .dataframe thead th {\n",
       "        text-align: right;\n",
       "    }\n",
       "</style>\n",
       "<table border=\"1\" class=\"dataframe\">\n",
       "  <thead>\n",
       "    <tr style=\"text-align: right;\">\n",
       "      <th></th>\n",
       "      <th>city</th>\n",
       "      <th>lon</th>\n",
       "      <th>lat</th>\n",
       "      <th>area</th>\n",
       "      <th>density</th>\n",
       "      <th>no_people</th>\n",
       "    </tr>\n",
       "  </thead>\n",
       "  <tbody>\n",
       "    <tr>\n",
       "      <th>0</th>\n",
       "      <td>biała podlaska</td>\n",
       "      <td>52.033333</td>\n",
       "      <td>23.116667</td>\n",
       "      <td>49.40</td>\n",
       "      <td>1152.06</td>\n",
       "      <td>56942</td>\n",
       "    </tr>\n",
       "    <tr>\n",
       "      <th>1</th>\n",
       "      <td>białystok</td>\n",
       "      <td>53.135278</td>\n",
       "      <td>23.145556</td>\n",
       "      <td>102.13</td>\n",
       "      <td>2872.90</td>\n",
       "      <td>293413</td>\n",
       "    </tr>\n",
       "    <tr>\n",
       "      <th>2</th>\n",
       "      <td>bielsko-biała</td>\n",
       "      <td>49.822500</td>\n",
       "      <td>19.044444</td>\n",
       "      <td>124.51</td>\n",
       "      <td>1351.90</td>\n",
       "      <td>168319</td>\n",
       "    </tr>\n",
       "    <tr>\n",
       "      <th>3</th>\n",
       "      <td>bydgoszcz</td>\n",
       "      <td>53.125000</td>\n",
       "      <td>18.011111</td>\n",
       "      <td>175.98</td>\n",
       "      <td>1941.70</td>\n",
       "      <td>337666</td>\n",
       "    </tr>\n",
       "    <tr>\n",
       "      <th>4</th>\n",
       "      <td>gdańsk</td>\n",
       "      <td>54.347500</td>\n",
       "      <td>18.645278</td>\n",
       "      <td>263.44</td>\n",
       "      <td>1845.00</td>\n",
       "      <td>486022</td>\n",
       "    </tr>\n",
       "  </tbody>\n",
       "</table>\n",
       "</div>"
      ],
      "text/plain": [
       "             city        lon         lat    area  density  no_people\n",
       "0  biała podlaska  52.033333   23.116667   49.40  1152.06      56942\n",
       "1       białystok  53.135278   23.145556  102.13  2872.90     293413\n",
       "2   bielsko-biała  49.822500   19.044444  124.51  1351.90     168319\n",
       "3       bydgoszcz  53.125000   18.011111  175.98  1941.70     337666\n",
       "4          gdańsk  54.347500   18.645278  263.44  1845.00     486022"
      ]
     },
     "execution_count": 45,
     "metadata": {},
     "output_type": "execute_result"
    }
   ],
   "source": [
    "df_meta = pd.read_excel('data_poland/meta.xlsx')\n",
    "df_meta['city'] = df_meta['city'].apply(lambda c: c.lower())\n",
    "df_meta.drop(['city_id'], axis=1, inplace=True)\n",
    "df_meta.head()"
   ]
  },
  {
   "cell_type": "code",
   "execution_count": null,
   "id": "134e9bbf",
   "metadata": {},
   "outputs": [
    {
     "name": "stdout",
     "output_type": "stream",
     "text": [
      "Feature Group created successfully, explore it at \n",
      "https://c.app.hopsworks.ai:443/p/5476/fs/5383/fg/14952\n"
     ]
    },
    {
     "data": {
      "application/vnd.jupyter.widget-view+json": {
       "model_id": "4a805f395ec34cf2aeb0f19947f2cda3",
       "version_major": 2,
       "version_minor": 0
      },
      "text/plain": [
       "Uploading Dataframe: 0.00% |          | Rows 0/21 | Elapsed Time: 00:00 | Remaining Time: ?"
      ]
     },
     "metadata": {},
     "output_type": "display_data"
    },
    {
     "name": "stdout",
     "output_type": "stream",
     "text": [
      "Launching offline feature group backfill job...\n",
      "Backfill Job started successfully, you can follow the progress at \n",
      "https://c.app.hopsworks.ai/p/5476/jobs/named/poland_meta_fg_1_offline_fg_backfill/executions\n"
     ]
    }
   ],
   "source": [
    "meta_fg = fs.get_or_create_feature_group(\n",
    "        name = 'poland_meta_fg',\n",
    "        description = 'characteristics of Polish cities',\n",
    "        version = 1,\n",
    "        primary_key = ['city'],\n",
    "        online_enabled = True\n",
    "    )    \n",
    "\n",
    "meta_fg.insert(df_meta)"
   ]
  },
  {
   "cell_type": "markdown",
   "id": "c396d9ac",
   "metadata": {},
   "source": [
    "---"
   ]
  }
 ],
 "metadata": {
  "kernelspec": {
   "display_name": "Python 3 (ipykernel)",
   "language": "python",
   "name": "python3"
  },
  "language_info": {
   "codemirror_mode": {
    "name": "ipython",
    "version": 3
   },
   "file_extension": ".py",
   "mimetype": "text/x-python",
   "name": "python",
   "nbconvert_exporter": "python",
   "pygments_lexer": "ipython3",
   "version": "3.8.5"
  }
 },
 "nbformat": 4,
 "nbformat_minor": 5
}
